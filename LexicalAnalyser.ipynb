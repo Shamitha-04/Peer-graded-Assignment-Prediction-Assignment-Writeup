{
  "nbformat": 4,
  "nbformat_minor": 0,
  "metadata": {
    "colab": {
      "provenance": [],
      "authorship_tag": "ABX9TyMqN3E7TSmzYJmd3B1rLB2P",
      "include_colab_link": true
    },
    "kernelspec": {
      "name": "python3",
      "display_name": "Python 3"
    },
    "language_info": {
      "name": "python"
    }
  },
  "cells": [
    {
      "cell_type": "markdown",
      "metadata": {
        "id": "view-in-github",
        "colab_type": "text"
      },
      "source": [
        "<a href=\"https://colab.research.google.com/github/Shamitha-04/Peer-graded-Assignment-Prediction-Assignment-Writeup/blob/main/LexicalAnalyser.ipynb\" target=\"_parent\"><img src=\"https://colab.research.google.com/assets/colab-badge.svg\" alt=\"Open In Colab\"/></a>"
      ]
    },
    {
      "cell_type": "code",
      "execution_count": 1,
      "metadata": {
        "id": "QC3mj6Rw4HgC"
      },
      "outputs": [],
      "source": [
        "import re"
      ]
    },
    {
      "cell_type": "code",
      "source": [
        "import nltk"
      ],
      "metadata": {
        "id": "zic1Qsfz4JXD"
      },
      "execution_count": 2,
      "outputs": []
    },
    {
      "cell_type": "code",
      "source": [
        "input_program = input(\"Enter Your Code: \");"
      ],
      "metadata": {
        "colab": {
          "base_uri": "https://localhost:8080/"
        },
        "id": "zK6VjWT04Vp_",
        "outputId": "df4baea9-9978-4808-937b-4479a578f0d5"
      },
      "execution_count": 3,
      "outputs": [
        {
          "name": "stdout",
          "output_type": "stream",
          "text": [
            "Enter Your Code: a=10 b=20 c=a+b\n"
          ]
        }
      ]
    },
    {
      "cell_type": "code",
      "source": [
        "input_program_tokens = nltk.wordpunct_tokenize(input_program);"
      ],
      "metadata": {
        "id": "nTdZFXHh4dR9"
      },
      "execution_count": 4,
      "outputs": []
    },
    {
      "cell_type": "code",
      "source": [
        "print(input_program_tokens);"
      ],
      "metadata": {
        "colab": {
          "base_uri": "https://localhost:8080/"
        },
        "id": "pROLkdGW4vNu",
        "outputId": "2b394c01-ad01-4197-d30e-86942af6ba5b"
      },
      "execution_count": 5,
      "outputs": [
        {
          "output_type": "stream",
          "name": "stdout",
          "text": [
            "['a', '=', '10', 'b', '=', '20', 'c', '=', 'a', '+', 'b']\n"
          ]
        }
      ]
    },
    {
      "cell_type": "code",
      "source": [
        "RE_Keywords = \"auto|break|case|char|const|continue|default|do|double|else|enum|extern|float|for|goto|if|int|long|register|return|short|signed|sizeof|static|struct|switch|typedef|union|unsigned|void|volatile|while|string|class|struc|include\""
      ],
      "metadata": {
        "id": "hwNb7XeB4zjy"
      },
      "execution_count": 6,
      "outputs": []
    },
    {
      "cell_type": "code",
      "source": [
        "RE_Operators = \"(\\++)|(-)|(=)|(\\*)|(/)|(%)|(--)|(<=)|(>=)\""
      ],
      "metadata": {
        "id": "stJvaXLN449Z"
      },
      "execution_count": 7,
      "outputs": []
    },
    {
      "cell_type": "code",
      "source": [
        "RE_Numerals = \"^(\\d+)$\""
      ],
      "metadata": {
        "id": "zx2n9Gey4-SX"
      },
      "execution_count": 8,
      "outputs": []
    },
    {
      "cell_type": "code",
      "source": [
        "RE_Special_Characters = \"[\\[@&~!#$\\^\\|{}\\]:;<>?,\\.']|\\(\\)|\\(|\\)|{}|\\[\\]|\\\"\""
      ],
      "metadata": {
        "id": "lsboWWAF5B74"
      },
      "execution_count": 9,
      "outputs": []
    },
    {
      "cell_type": "code",
      "source": [
        "RE_Identifiers = \"^[a-zA-Z_]+[a-zA-Z0-9_]*\""
      ],
      "metadata": {
        "id": "rAbki4hP5GSA"
      },
      "execution_count": 10,
      "outputs": []
    },
    {
      "cell_type": "code",
      "source": [
        "RE_Headers = \"([a-zA-Z]+\\.[h])\""
      ],
      "metadata": {
        "id": "28wzSD2H5JrS"
      },
      "execution_count": 11,
      "outputs": []
    },
    {
      "cell_type": "code",
      "source": [
        "for token in input_program_tokens:\n",
        "    if(re.findall(RE_Keywords,token)):\n",
        "        print(token , \"-------> Keyword\")\n",
        "    elif(re.findall(RE_Operators,token)):\n",
        "        print(token, \"-------> Operator\")\n",
        "    elif(re.findall(RE_Numerals,token)):\n",
        "        print(token, \"-------> Numeral\")\n",
        "    elif(re.findall(RE_Special_Characters,token)):\n",
        "        print(token, \"-------> Special Character/Symbol\")\n",
        "    elif(re.findall(RE_Identifiers,token)):\n",
        "        print(token, \"-------> Identifiers\")\n",
        "    else:\n",
        "        print(\"Unknown Value\")"
      ],
      "metadata": {
        "colab": {
          "base_uri": "https://localhost:8080/"
        },
        "id": "aGMNjJEX5MMY",
        "outputId": "983394fe-ed2a-4e9d-b4d1-cbd7f5f27fa7"
      },
      "execution_count": 13,
      "outputs": [
        {
          "output_type": "stream",
          "name": "stdout",
          "text": [
            "a -------> Identifiers\n",
            "= -------> Operator\n",
            "10 -------> Numeral\n",
            "b -------> Identifiers\n",
            "= -------> Operator\n",
            "20 -------> Numeral\n",
            "c -------> Identifiers\n",
            "= -------> Operator\n",
            "a -------> Identifiers\n",
            "+ -------> Operator\n",
            "b -------> Identifiers\n"
          ]
        }
      ]
    },
    {
      "cell_type": "code",
      "source": [],
      "metadata": {
        "id": "0cw5WYpC5Rnc"
      },
      "execution_count": null,
      "outputs": []
    }
  ]
}